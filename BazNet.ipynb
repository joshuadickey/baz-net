{
 "cells": [
  {
   "cell_type": "code",
   "execution_count": 4,
   "metadata": {
    "pycharm": {
     "is_executing": true
    }
   },
   "outputs": [
    {
     "name": "stdout",
     "output_type": "stream",
     "text": [
      "The autoreload extension is already loaded. To reload it, use:\n",
      "  %reload_ext autoreload\n"
     ]
    }
   ],
   "source": [
    "import os\n",
    "import re\n",
    "import pandas as pd\n",
    "import numpy as np\n",
    "import seaborn as sns\n",
    "import matplotlib.pyplot as plt\n",
    "import tensorflow as tf\n",
    "from IPython.display import display\n",
    "from time import localtime, strftime\n",
    "\n",
    "%matplotlib inline\n",
    "%load_ext autoreload\n",
    "%autoreload 2\n",
    "\n",
    "import tensorflow.keras.backend as K\n",
    "from tensorflow.keras.layers import Conv1D, SpatialDropout1D, Flatten, Activation, Lambda, Convolution1D, Dense, BatchNormalization, add\n",
    "from tensorflow.keras.models import Model, load_model, Sequential, save_model\n",
    "from tensorflow.keras.utils import to_categorical\n",
    "from tensorflow.keras import Input\n",
    "from tensorflow.keras.optimizers import Adam\n",
    "from tensorflow.keras.callbacks import ModelCheckpoint, TensorBoard, EarlyStopping\n",
    "from geographiclib.geodesic import Geodesic\n",
    "\n",
    "from numpy.fft import fft, ifft\n",
    "from tensorflow.keras.utils import to_categorical\n",
    "from scipy.special import softmax\n",
    "\n",
    "model_folder='models/'\n",
    "log_folder='logs/'\n",
    "orig_pre = 20"
   ]
  },
  {
   "cell_type": "markdown",
   "metadata": {},
   "source": [
    "# BazNET: 3C Backazimuth Estimation with DNNs\n"
   ]
  },
  {
   "cell_type": "markdown",
   "metadata": {},
   "source": [
    "Back Azimuth estimation is a critical step in seismic signal processing pipeline, feeding the downstream processes that associate events and build location estimates. Typically, there are two methods of estimating backazimuth, depending on the type of station. If the station consists of an array of instruments, the backazimuth can be estimated by the time-delay of arrival (TDOA) across the array. This process is called beamforming, and produces backazimuth estimates that can be quite accurate. If the station consists of a single 3-channel (3C) instrument with North-South, East-West and Vertical channels, the backazimuth can be estimated by calculating the polarization of the arriving wavefront. This process produces much less accurate results.\n",
    "\n",
    "In this work, we attempt to create an alternative to polarization analysis, that is on-par with the accuracy of beamforming. Such an acheivement could greatly improve the association and location estimates for a seismic network, by taking full advantage of the much more prolific and inexpensive 3C stations. In particular, we utilize a deep neural network to directly estimate the backazimuth from a 3C waveform. This is accomplished by training the network against 10 years of historical data from the station.\n",
    "\n",
    "This technique does not generalize across stations, and in fact, it does not even generalize for new source locations at an existing station. However, the estimates for most signals are quite accurate, rivaling those found through beamforming an entire array.\n",
    "\n",
    "We now proceed to detail and demonstrate this technique as follows:\n",
    "\n",
    "- STEP 1: Data Exploration\n",
    "- STEP 2: Traditional Methodology\n",
    "- STEP 3: Proposed Methodology\n",
    "- STEP 4: Training\n",
    "- STEP 5: Testing\n",
    "\n"
   ]
  },
  {
   "cell_type": "markdown",
   "metadata": {},
   "source": [
    "*** \n",
    "\n",
    "## STEP 1: DATA EXPLORATION\n",
    "\n",
    "The dataset used in this study includes both the catalog and raw waveform data for all associated event arrivals from the IDC database for a single 3C station, CPUP, across a 10-year period from 1/1/2009 to 1/1/2019. CPUP is a 3C seismic station located in Villa Florida, Paraguay. This data is contained in two files: a csv file containing a catalog of seismic arrivals, and a numpy array containing the corresponding arrival waveform data, as given below: \n",
    "\n",
    "- Y\\_CPUP\\_20\\_180.csv -- _(Arrival Catalog)_\n",
    "- X\\_CPUP\\_20\\_180.npy -- _(Waveform Data)_\n",
    "\n",
    "In order to compare our results to those obtained with a beamforming, we also include an arrival catalog for an array station, CMAR, located in Thiland. This catalog includes the beamformed azimuth estimates made by the IDC.\n",
    "\n",
    "- Y\\_CMAR\\_20\\_180.csv -- _(Arrival Catalog)_\n"
   ]
  },
  {
   "cell_type": "markdown",
   "metadata": {},
   "source": [
    "### _Arrival Catalog:_\n",
    "\n",
    "The catalog contains numerous details for each arrival, but here we are concerned primarily with the location coordinates for the event epicenter and the recording station, given by the following columns: __EV_LAT__, __EV_LON__, __ST_LAT__ and __ST_LON__. We are also interested in the __AZI_PRED__ column, which is the backazimuth estimate predicted by the automatic processing algorithms at the IDC. \n",
    "\n",
    "It is important to note that for the 3C station, CPUP, the __AZI_PRED__ estimates were made by polarization analysis, while for the array station, CMAR, the __AZI_PRED__ estimates were made by beamforming. \n"
   ]
  },
  {
   "cell_type": "code",
   "execution_count": 5,
   "metadata": {},
   "outputs": [],
   "source": [
    "def read_cat(cat_file):\n",
    "    cat = pd.read_csv(cat_file)\n",
    "    cat['TIME'] = pd.to_datetime(cat['TIME'])\n",
    "    return cat"
   ]
  },
  {
   "cell_type": "code",
   "execution_count": 6,
   "metadata": {},
   "outputs": [
    {
     "data": {
      "text/plain": [
       "CPUP    51385\n",
       "Name: STA, dtype: int64"
      ]
     },
     "metadata": {},
     "output_type": "display_data"
    },
    {
     "data": {
      "text/plain": [
       "CMAR    163059\n",
       "Name: STA, dtype: int64"
      ]
     },
     "metadata": {},
     "output_type": "display_data"
    }
   ],
   "source": [
    "cat_CPUP = read_cat('data/Y_CPUP_20_180.csv')\n",
    "cat_CMAR = read_cat('data/Y_CMAR_20_180.csv')\n",
    "display(cat_CPUP.STA.value_counts())\n",
    "display(cat_CMAR.STA.value_counts())"
   ]
  },
  {
   "cell_type": "markdown",
   "metadata": {},
   "source": [
    "***\n",
    "\n",
    "## STEP 2: TRADITIONAL METHODOLOGY\n",
    "\n",
    "We explore traditional backazimuth estimation in three parts:\n",
    "\n",
    "1) Backazimuth Definition\n",
    "\n",
    "2) Beamforming Analysis\n",
    "\n",
    "3) Polarization Analysis"
   ]
  },
  {
   "cell_type": "markdown",
   "metadata": {},
   "source": [
    "### _Backazimuth Definition:_\n",
    "\n",
    "Before we can begin estimating Baz, we must define it precisely. For the purposes of this study, Baz is the great circle bearing for the event epicenter, referenced at the recording station in clockwise degrees from north. The following diagram illustrates the backazimuth for an event epicenter located in the south Pacific and a recording station in London, England:\n",
    "\n",
    "<img src=\"images/BackAzimuthDiagram.png\" width=\"300px\">\n",
    "\n",
    "This diagram demonstrates the azimuth (Az) and backazimuth (Baz) angles for the given Event-Station pair. The latitude and longitude coordinates for the station, in radians, are given by $(\\phi_s, \\lambda_s)$, while the event coordinates are given by $(\\phi_s, \\lambda_s)$.\n",
    "\n",
    "Assuming a spherical earth, simple trigonometry can be used to calculate the backazimuth, as shown in both formula and code:\n",
    "\n",
    "***\n",
    "**formula:**\n",
    "\n",
    "$y = \\sin(\\lambda_e - \\lambda_s) * \\cos(\\phi_e)$\n",
    "\n",
    "$x =  \\sin(\\phi_e) * \\cos(\\phi_s) - \\sin(\\phi_s) * \\cos(\\phi_e) * \\cos(\\lambda_e - \\lambda_s)$\n",
    "\n",
    "$Baz = atan2(y, x)$\n",
    "\n",
    "***\n",
    "**code:**\n",
    "\n",
    " ```py\n",
    "def Baz(lonS, latS, lonE, latE):\n",
    "\n",
    "    # convert decimal degrees to radians    \n",
    "    lonS, latS, lonE, latE = map(radians, [lonS, latS, lonE, latE])\n",
    "    dLon = lonE - lonS\n",
    "    \n",
    "    y = sin(lonE - lonS) * cos(latE)\n",
    "    x = cos(latS) * sin(latE) - sin(latS) * cos(latE) * cos(lonE - lonS)\n",
    "    \n",
    "    deg = degrees(atan2(y, x))\n",
    "    if deg < 0:\n",
    "        deg = 360 + deg\n",
    "    return deg\n",
    "```\n",
    "***\n",
    "\n",
    "\n",
    "While the code above is servicable, a faster, more robust implementation, which takes into account the elliptical nature of the earth, can be found in the geographiclib python package. We utilize this implementation here, adapting it for use with our seismic catalogs. The code below appends the true backazimuth to each row of the catalog, creating a new column, __AZI_TRUE__. "
   ]
  },
  {
   "cell_type": "code",
   "execution_count": 7,
   "metadata": {},
   "outputs": [],
   "source": [
    "def azimuther(cat_row):\n",
    "    return Geodesic.WGS84.Inverse(cat_row.EV_LAT, cat_row.EV_LON, cat_row.ST_LAT, cat_row.ST_LON)['azi2'] + 180"
   ]
  },
  {
   "cell_type": "code",
   "execution_count": 8,
   "metadata": {},
   "outputs": [],
   "source": [
    "cat_CPUP['AZI_TRUE'] = cat_CPUP.apply(lambda row: azimuther(row), axis=1)\n",
    "cat_CMAR['AZI_TRUE'] = cat_CMAR.apply(lambda row: azimuther(row), axis=1)"
   ]
  },
  {
   "cell_type": "markdown",
   "metadata": {},
   "source": [
    "### _Beamforming Analysis:_\n",
    "\n",
    "Array stations are capable of producing highly accurate backazimuth estimates using a TDOA technique called beamforming. To illustrate, the figure below maps the site locations for ASAR, a 20 element seismic array located near Alice Springs, Australia. Annotated on the map is the backazimuth for an event which originated approximately 323 miles to the southwest. Additionally, the arriving waveforms are displayed for each site.\n",
    "\n",
    "<img src=\"images/Beamform_wave.png\" width=\"700px\">\n",
    "<img src=\"images/Beamform_map.png\" width=\"700px\">"
   ]
  },
  {
   "cell_type": "markdown",
   "metadata": {},
   "source": [
    "We now evaluate the accuracy of beamforming, by comparing the beamformed estimates made by the IDC (**AZI_PRED**) to the true values (**AZI_TRUE**). \n",
    "\n",
    "To do this, we first need to develop some apparatus for comparing angluar errors. We cannot simply take the mean squared error or even the mean absolute error, because of the circular nature of angle measures. For instance, the absolute error between 1 and 359 degrees is 358, while the angular difference is only 2. The vectorized code below takes care of this for us with great efficiency, and we employ it against our catalog."
   ]
  },
  {
   "cell_type": "code",
   "execution_count": 6,
   "metadata": {},
   "outputs": [],
   "source": [
    "def ang_diff(a, b):\n",
    "    return np.min(np.stack(((a-b)%360, (b-a)%360)), axis=0)"
   ]
  },
  {
   "cell_type": "code",
   "execution_count": 7,
   "metadata": {},
   "outputs": [],
   "source": [
    "cat_CMAR['AZI_IDC_ERR'] = ang_diff(cat_CMAR.AZI_TRUE.values, cat_CMAR.AZI_PRED.values)"
   ]
  },
  {
   "cell_type": "markdown",
   "metadata": {},
   "source": [
    "We now plot a histogram of the residuals, and calculate both the mean and median error"
   ]
  },
  {
   "cell_type": "code",
   "execution_count": 8,
   "metadata": {},
   "outputs": [],
   "source": [
    "def plot_ERR(err, lbl='', ax=None, deg_per_bin=5, lbl_rate=3):\n",
    "    ax = ax or plt.gca()\n",
    "    ax.cla()\n",
    "    \n",
    "    weights = np.ones_like(err)/float(len(err))\n",
    "    bins = np.linspace(0,180,int(180/deg_per_bin + 1))\n",
    "    ticks = [f'{int(t)}°' if not i%lbl_rate else '' for i, t in enumerate(bins)]\n",
    "    \n",
    "    _ = ax.hist(err, bins=bins, weights=weights)\n",
    "\n",
    "    textstr = f'mean:    {err.mean():02.0f}°\\nmedian: {err.median():02.0f}°'\n",
    "    ax.text(180, .52, textstr, ha='right', va='top', fontsize=9, bbox=dict(boxstyle='round', facecolor='wheat', alpha=0.5))\n",
    "    \n",
    "    ax.set_xlabel('Absolute Backazimuth Error')\n",
    "    ax.set_ylabel('Density')\n",
    "    ax.set_ylim(0,.55)\n",
    "    ax.set_xticks(bins)\n",
    "    ax.set_xticklabels(ticks, rotation=40)\n",
    "    \n",
    "    plt.savefig(f'images/err_histogram_{lbl}.png', transparent=False, dpi=300, bbox_inches='tight')"
   ]
  },
  {
   "cell_type": "code",
   "execution_count": 9,
   "metadata": {},
   "outputs": [
    {
     "data": {
      "image/png": "[encoded data removed]",
      "text/plain": [
       "<Figure size 432x288 with 1 Axes>"
      ]
     },
     "metadata": {
      "needs_background": "light"
     },
     "output_type": "display_data"
    }
   ],
   "source": [
    "plot_ERR(cat_CMAR['AZI_IDC_ERR'], 'IDC_beam')"
   ]
  },
  {
   "cell_type": "markdown",
   "metadata": {},
   "source": [
    "### _Polarization Analysis:_\n",
    "\n",
    "Traditionally, backazimuth estimates for 3C stations are made by polarization analysis, which uses eigen-decomposition to look at the rectilinearity of the arriving plane wave. This gives an estimate of the polarization angle, which can be interpreted as the backazimuth. This technique is much less accurate than beamforming, as demonstrated by the histogram below:"
   ]
  },
  {
   "cell_type": "code",
   "execution_count": 10,
   "metadata": {},
   "outputs": [],
   "source": [
    "cat_CPUP['AZI_IDC_ERR'] = ang_diff(cat_CPUP.AZI_TRUE.values, cat_CPUP.AZI_PRED.values)"
   ]
  },
  {
   "cell_type": "code",
   "execution_count": 11,
   "metadata": {},
   "outputs": [
    {
     "data": {
      "image/png": "[encoded data removed]",
      "text/plain": [
       "<Figure size 432x288 with 1 Axes>"
      ]
     },
     "metadata": {
      "needs_background": "light"
     },
     "output_type": "display_data"
    }
   ],
   "source": [
    "plot_ERR(cat_CPUP['AZI_IDC_ERR'], 'IDC_polar')"
   ]
  },
  {
   "cell_type": "markdown",
   "metadata": {},
   "source": [
    "***\n",
    "\n",
    "## STEP 3: PROPOSED METHODOLOGY\n",
    "\n",
    "We propose an alternative to polarization analysis using machine learning against raw 3C waveforms, with a convolutional neural network. The technique we propose makes no claim to generalizability. It must be trained on a per-station basis, and it must have access to a large historical training dataset with numerous examples of all types of waveforms expected in the test set. For example, if the training set does not contain any example waveforms from a particular mine or fault-line, it would be unreasonable to expect the network to accurately estimate the backazimuths for events from that mine or fault in operation. However, given sufficient training data, the proposed algorithm is capable of significantly improving the backazimuth estimates for 3C stations.\n",
    "\n",
    "Our methodology will be introduced in three sections:\n",
    "\n",
    "1) Angle Representation\n",
    "\n",
    "2) Neural Network Architecture\n",
    "\n",
    "3) Data Generator\n",
    "\n",
    "### _Angle Representation:_\n",
    "\n",
    "Estimating an angle is an interesting area of research in its own right. Due to the circular nature of angles, simple regression with mean-squared error loss against degrees is inappropriate. In this work, we instead represent angles in terms of discrete bins, and utilize softmax loss. This representation allows us to take advantage of the confidence intervals associated with the softmax function, but suffers performance-wise, due to the arbitrary nature of the bin cutoffs. To remedy this, we utilize an enseble of bins. \n",
    "\n",
    "Of course, we must build up the apparatus to handle the transformations from one representation to the other, which we do now:"
   ]
  },
  {
   "cell_type": "code",
   "execution_count": 12,
   "metadata": {},
   "outputs": [],
   "source": [
    "def deg2bins(deg, nb_bins, nb_ensb, plot=False):\n",
    "    sz_bins = 360 / nb_bins\n",
    "    sz_shft = sz_bins / nb_ensb\n",
    "    \n",
    "    deg = np.expand_dims(deg, 1)\n",
    "    bins = (np.repeat(deg, nb_ensb, 1) - [i * sz_shft for i in range(nb_ensb)]) // sz_bins\n",
    "    \n",
    "    if plot:\n",
    "        fig, ax = plt.subplots(nb_ensb, 1)\n",
    "        for i in range(nb_ensb):\n",
    "            st = i * sz_shft\n",
    "            ax[i].set_xlim(0, 360)\n",
    "            ax[i].axvline(deg[0], c='red')\n",
    "            for j in range(nb_bins):\n",
    "                ax[i].axvline(j * sz_bins + st)\n",
    "\n",
    "    return np.mod(bins, nb_bins).astype('int')\n",
    "\n",
    "\n",
    "def bins2deg(bins, nb_bins, nb_ensb):\n",
    "    sz_bins = 360 / nb_bins\n",
    "    bin_shft = nb_bins / 2\n",
    "\n",
    "    deg_ensb1 = np.mod((bins + [i / nb_ensb for i in range(nb_ensb)] + 0.5) * sz_bins, 360)\n",
    "    deg1 = np.mean(deg_ensb1, 1)\n",
    "\n",
    "    deg_ensb2 = (np.mod(bins + bin_shft, nb_bins) + [i / nb_ensb for i in range(nb_ensb)] + 0.5) * sz_bins\n",
    "    deg2 = np.mod(np.mean(deg_ensb2, 1) - bin_shft * sz_bins, 360)\n",
    "\n",
    "    return np.where(np.var(deg_ensb1, 1) < np.var(deg_ensb2, 1), deg1, deg2)"
   ]
  },
  {
   "cell_type": "markdown",
   "metadata": {},
   "source": [
    "The number of bins and ensebles are key hyperparameters that will affect performance, here, we simply look at their effect on lossiness as a representation:"
   ]
  },
  {
   "cell_type": "code",
   "execution_count": 13,
   "metadata": {},
   "outputs": [
    {
     "data": {
      "text/plain": [
       "(6.0, 0.0)"
      ]
     },
     "execution_count": 13,
     "metadata": {},
     "output_type": "execute_result"
    },
    {
     "data": {
      "image/png": "[encoded data removed]",
      "text/plain": [
       "<Figure size 432x288 with 2 Axes>"
      ]
     },
     "metadata": {
      "needs_background": "light"
     },
     "output_type": "display_data"
    }
   ],
   "source": [
    "deg_orig = np.random.rand(10000)*360\n",
    "err = pd.DataFrame()\n",
    "\n",
    "for nb_bins in range(3,9):\n",
    "    for nb_ensb in range(2,9):\n",
    "        bins = deg2bins(deg_orig, nb_bins, nb_ensb)\n",
    "        deg_pred = bins2deg(bins, nb_bins, nb_ensb)\n",
    "        err.loc[nb_bins, nb_ensb] = np.mean(ang_diff(deg_orig, deg_pred))\n",
    "        \n",
    "ax = sns.heatmap(err, annot=True, fmt=\".01f\")\n",
    "bottom, top = ax.get_ylim()\n",
    "ax.set_ylim(bottom + 0.5, top - 0.5)"
   ]
  },
  {
   "cell_type": "code",
   "execution_count": 14,
   "metadata": {},
   "outputs": [
    {
     "data": {
      "image/png": "[encoded data removed]",
      "text/plain": [
       "<Figure size 360x360 with 1 Axes>"
      ]
     },
     "metadata": {
      "needs_background": "light"
     },
     "output_type": "display_data"
    }
   ],
   "source": [
    "from math import radians, degrees, cos, sin\n",
    "nb_bins = 4\n",
    "nb_ensb = 3\n",
    "sz_bins = 360 / nb_bins\n",
    "sz_shft = sz_bins / nb_ensb\n",
    "\n",
    "fig, ax= plt.subplots(figsize=(5,5))\n",
    "ax.add_artist(plt.Circle((0,0),1, color='black', fill=False))\n",
    "for i, shft in enumerate([i*sz_shft for i in range(nb_ensb)]):\n",
    "    for theta in [i*sz_bins + shft for i in range(nb_bins)]:\n",
    "        x = cos(radians(theta))\n",
    "        y = sin(radians(theta))\n",
    "\n",
    "        ax.annotate(\"\", xy=(x, y), xytext=(0, 0), arrowprops=dict(arrowstyle=\"->\", fc=f'C{i}', ec=f'C{i}'))\n",
    "        ax.set_ylim((-1.1,1.1))\n",
    "        ax.set_xlim((-1.1,1.1))\n",
    "        ax.axis('off')\n",
    "theta = 45\n",
    "ax.annotate(f'{int(theta)}°', xy=(0,0), xytext=(sin(radians(theta)), cos(radians(theta))), xycoords='data', arrowprops=dict(arrowstyle=\"<-\", fc='black', ec='black'))\n",
    "\n",
    "plt.savefig(f'M-N_discretization.png', transparent=False, dpi=300, bbox_inches='tight')"
   ]
  },
  {
   "cell_type": "markdown",
   "metadata": {},
   "source": [
    "\n",
    "### _Neural Network Architecture:_\n",
    "\n",
    "We utilize a temporal convolutional neural network architecture first expounded in the WaveNET study. We adapt the Keras code implementation made available by [Philippe Rémy](https://github.com/philipperemy/keras-tcn).\n",
    "\n",
    "<img src=\"images/BazNet_Architecture.png\" width=\"800px\">\n"
   ]
  },
  {
   "cell_type": "code",
   "execution_count": 15,
   "metadata": {},
   "outputs": [],
   "source": [
    "def residual_block(x, dilation_rate, nb_filters, kernel_size, padding, dropout_rate=0):\n",
    "\n",
    "    prev_x = x\n",
    "    for k in range(2):\n",
    "        x = Conv1D(filters=nb_filters,\n",
    "                   kernel_size=kernel_size,\n",
    "                   dilation_rate=dilation_rate,\n",
    "                   padding=padding)(x)\n",
    "        x = Activation('relu')(x)\n",
    "        x = SpatialDropout1D(rate=dropout_rate)(x)\n",
    "\n",
    "    # 1x1 conv to match the shapes (channel dimension).\n",
    "    prev_x = Conv1D(nb_filters, 1, padding='same')(prev_x)\n",
    "    res_x = add([prev_x, x])\n",
    "    return res_x, x\n",
    "\n",
    "\n",
    "def base_model(win_len, nb_chan, nb_filters, filter_len, dilations, nb_stacks, nb_bins, nb_ensb,\n",
    "               padding='causal', drop=0.05):\n",
    "\n",
    "    input_layer = Input(shape=(win_len, nb_chan))\n",
    "\n",
    "    x = input_layer\n",
    "\n",
    "    x = Convolution1D(nb_filters, 1, padding=padding)(x)\n",
    "    skip_connections = []\n",
    "    for s in range(nb_stacks):\n",
    "        for d in dilations:\n",
    "            x, skip_out = residual_block(x,\n",
    "                                         dilation_rate=d,\n",
    "                                         nb_filters=nb_filters,\n",
    "                                         kernel_size=filter_len,\n",
    "                                         padding=padding,\n",
    "                                         dropout_rate=drop)\n",
    "            skip_connections.append(skip_out)\n",
    "\n",
    "    x = add(skip_connections)\n",
    "    x = Lambda(lambda tt: tt[:, -1, :])(x)\n",
    "#     x = Dense(45)(x)\n",
    "#     x = Dense(45)(x)\n",
    "\n",
    "    if nb_ensb == 0:\n",
    "        x = Dense(2)(x)\n",
    "        output_layer = Lambda(lambda xx: K.l2_normalize(xx, axis=1))(x)\n",
    "    else:\n",
    "        output_layer = []\n",
    "        for i in range(nb_ensb):\n",
    "            output_layer.append(Dense(nb_bins, activation='softmax')(x))\n",
    "\n",
    "    model = Model(input_layer, output_layer)\n",
    "\n",
    "    return model"
   ]
  },
  {
   "cell_type": "markdown",
   "metadata": {},
   "source": [
    "### _Data Generator:_\n",
    "\n",
    "Estimating an angle is an interesting area of research in its own right. Due to the circular nature of angles, simple regression with mean-squared error loss against degrees is inappropriate. In this work, we instead represent angles in terms of discrete bins, and utilize softmax loss. This representation allows us to take advantage of the confidence intervals associated with the softmax function, but suffers performance-wise, due to the arbitrary nature of the bin cutoffs. To remedy this, we utilize an ensebl"
   ]
  },
  {
   "cell_type": "code",
   "execution_count": 26,
   "metadata": {},
   "outputs": [],
   "source": [
    "def gen(cat, dat, pdict, orig_pre=20, samp_rate=40, all=False):\n",
    "    bs = pdict['bs']\n",
    "    pre_trim = pdict['pre']\n",
    "    post_trim = pdict['post']\n",
    "    nb_bins = pdict['numB']\n",
    "    nb_ensb = pdict['numE']\n",
    "    jitter = pdict['sh']\n",
    "    jabber = pdict['numSH']\n",
    "    if all:\n",
    "        jitter = 0\n",
    "        jabber = 1\n",
    "\n",
    "    bs = int((bs // nb_bins + 1) * nb_bins)\n",
    "    print(bs)\n",
    "    sub_bs = int(bs / nb_bins)\n",
    "    win = (pre_trim + post_trim) * samp_rate\n",
    "    start = orig_pre - pre_trim - 0.5 * jitter\n",
    "    big_cat = cat.copy(deep=True)\n",
    "    big_cat['PRED_BINS'] = deg2bins(big_cat.AZI_TRUE.values, nb_bins, 1)\n",
    "\n",
    "    while 1:\n",
    "        X = []\n",
    "        st = ((start + np.random.rand(jabber) * jitter) * samp_rate).astype('int')\n",
    "        en = st + win\n",
    "        if all:\n",
    "            my_cat = cat\n",
    "        else:\n",
    "            my_cat = []\n",
    "            for i in range(nb_bins):\n",
    "                my_cat.append(big_cat.loc[big_cat.PRED_BINS == i].sample(sub_bs))\n",
    "            my_cat = pd.concat(my_cat)\n",
    "\n",
    "        for i in range(jabber):\n",
    "            X.append(np.take(dat, my_cat.index, axis=0)[:, st[i]:en[i], :])\n",
    "        X = np.vstack(X)\n",
    "\n",
    "        if nb_ensb == 0:\n",
    "            Y = deg2xy(my_cat.AZI_TRUE.values)\n",
    "            Y = np.vstack([Y] * jabber)\n",
    "        else:\n",
    "            Y = deg2bins(my_cat.AZI_TRUE.values, nb_bins, nb_ensb)\n",
    "            Y = to_categorical(Y, nb_bins)\n",
    "            Y = np.vstack([Y] * jabber)\n",
    "\n",
    "        if nb_ensb > 1:\n",
    "            Y = list(np.swapaxes(Y, 0, 1))\n",
    "        elif nb_ensb == 1:\n",
    "            Y = [Y]\n",
    "\n",
    "        yield X, Y\n"
   ]
  },
  {
   "cell_type": "markdown",
   "metadata": {},
   "source": [
    "***\n",
    "\n",
    "## STEP 4: TRAINING\n",
    "\n",
    "We propose an alternative to polarization analysis using machine learning against raw 3C waveforms, with a convolutional neural network. The technique we propose makes no claim to generalizability. It must be trained on a per-station basis, and it must have access to a large historical training dataset with numerous examples of all types of waveforms expected in the test set. For example, if the training set does not contain any example waveforms from a particular mine or fault-line, it would be unreasonable to expect the network to accurately estimate the backazimuths for events from that mine or fault in operation. However, given sufficient training data, the proposed algorithm is capable of significantly improving the backazimuth estimates for 3C stations.\n",
    "\n",
    "Our training code will be introduced in three sections:\n",
    "\n",
    "1) Train/Val/Test Splits\n",
    "\n",
    "2) Parameter Dictionaries and Model Logistics\n",
    "\n",
    "3) Training\n",
    "\n",
    "### _Train/Val/Test Splits:_\n",
    "\n",
    "We divide this data into three partitions: train, validate and test, using the final year (2018) for testing and the previous two years (2016 and 2017) for validation. \n"
   ]
  },
  {
   "cell_type": "code",
   "execution_count": 17,
   "metadata": {},
   "outputs": [],
   "source": [
    "def DAT_normalize(X):\n",
    "    X = X / np.expand_dims(np.expand_dims(np.abs(X).max(1).max(1), 1), 1)\n",
    "    return X"
   ]
  },
  {
   "cell_type": "code",
   "execution_count": 18,
   "metadata": {},
   "outputs": [],
   "source": [
    "dat = DAT_normalize(np.load('data/X_CPUP_20_180.npy'))"
   ]
  },
  {
   "cell_type": "code",
   "execution_count": 19,
   "metadata": {},
   "outputs": [],
   "source": [
    "cat_trn = cat_CPUP.loc[cat_CPUP.TIME < '01-01-2016']\n",
    "dat_trn = np.take(dat, cat_trn.index, axis=0)\n",
    "cat_trn.reset_index(drop=True, inplace=True)\n",
    "\n",
    "cat_val = cat_CPUP.loc[(cat_CPUP.TIME > '01-01-2016') & (cat_CPUP.TIME < '01-01-2018')]\n",
    "dat_val = np.take(dat, cat_val.index, axis=0)\n",
    "cat_val.reset_index(drop=True, inplace=True)\n",
    "\n",
    "cat_tst = cat_CPUP.loc[(cat_CPUP.TIME > '01-01-2018')]\n",
    "dat_tst = np.take(dat, cat_tst.index, axis=0)\n",
    "cat_tst.reset_index(drop=True, inplace=True)"
   ]
  },
  {
   "cell_type": "markdown",
   "metadata": {},
   "source": [
    "### _Parameter Dictionaries and Model Logistics:_\n",
    "\n",
    "The code below functions to save and load the models in an orderly fashion:\n"
   ]
  },
  {
   "cell_type": "code",
   "execution_count": 27,
   "metadata": {},
   "outputs": [],
   "source": [
    "def param2name(pdict):\n",
    "    name = []\n",
    "    for key in pdict.keys():\n",
    "        if type(pdict[key]) is list:\n",
    "            name.append(f'{key}:{\"x\".join(map(str, pdict[key]))}')\n",
    "        else:\n",
    "            name.append(f'{key}:{pdict[key]}')\n",
    "    return '|'.join(name)\n",
    "           \n",
    "                        \n",
    "def name2param(name):\n",
    "    name = name[:-3]\n",
    "    regnumber = re.compile(r'^\\d+(\\.\\d+)?$')\n",
    "    pdict = dict([p.split(':') for p in name.split('|')])\n",
    "    for key in pdict.keys():\n",
    "        if regnumber.match(pdict[key]):\n",
    "            try:\n",
    "                pdict[key] = int(pdict[key])\n",
    "            except:\n",
    "                pdict[key] = float(pdict[key])\n",
    "        else:\n",
    "            if 'x' in pdict[key]:\n",
    "                pdict[key] = list(map(int, pdict[key].split('x')))\n",
    "            try:\n",
    "                pdict[key] = float(pdict[key])\n",
    "            except:\n",
    "                pass\n",
    "    return pdict"
   ]
  },
  {
   "cell_type": "code",
   "execution_count": 28,
   "metadata": {},
   "outputs": [],
   "source": [
    "def load_custom_model(pdict, model_folder='models'):\n",
    "    if 'iniW' in pdict.keys():\n",
    "        model_name = [n for n in os.listdir(model_folder) if f\"|time:{pdict['iniW']}\" in n][0]\n",
    "        model_file = os.path.join(model_folder, model_name)\n",
    "\n",
    "        print('loading previous model:\\n', model_file)\n",
    "        pdict = name2param(os.path.basename(model_file))\n",
    "        model = load_model(model_file)\n",
    "    else:\n",
    "        model_name = param2name(pdict)\n",
    "        model_file = os.path.join(model_folder, model_name)\n",
    "\n",
    "        print('building new model:\\n', model_file)\n",
    "        model = base_model(win_len=(pdict['pre'] + pdict['post']) * 40,\n",
    "                           nb_chan=3,\n",
    "                           nb_filters=pdict['f'],\n",
    "                           filter_len=pdict['k'],\n",
    "                           dilations=pdict['d'],\n",
    "                           nb_stacks=pdict['s'],\n",
    "                           nb_bins=pdict['numB'],\n",
    "                           nb_ensb=pdict['numE'])\n",
    "    return model, model_name\n",
    "\n",
    "\n",
    "def compile_custom_model(model, pdict):\n",
    "    o = Adam(lr=pdict['lr'], clipnorm=1.)\n",
    "    if pdict['numE'] == 0:\n",
    "        model.compile(loss='mse', optimizer=o, metrics=['mae'])\n",
    "    else:\n",
    "        model.compile(loss='categorical_crossentropy', optimizer=o, metrics=['categorical_accuracy'])\n",
    "\n",
    "    return model, param2name(pdict)\n",
    "\n",
    "\n",
    "def get_callbacks(model_name, model_folder, log_folder):\n",
    "    pdict = name2param(os.path.basename(model_name))\n",
    "    tensor_foldername = os.path.join(log_folder, model_name)\n",
    "    model_filename = os.path.join(model_folder, model_name + '.h5')\n",
    "\n",
    "    sv = ModelCheckpoint(filepath=model_filename, monitor='val_loss', save_best_only=True,\n",
    "                                         save_weights_only=False, mode='min')\n",
    "    tbd = TensorBoard(log_dir=tensor_foldername)\n",
    "    stp = EarlyStopping(monitor='val_loss', min_delta=0, patience=pdict['pat'],\n",
    "                                        verbose=0, mode='min', baseline=None)\n",
    "\n",
    "    return [sv, tbd, stp]\n"
   ]
  },
  {
   "cell_type": "markdown",
   "metadata": {},
   "source": [
    "### _Model Training:_\n",
    "\n",
    "The code below trains a model:\n"
   ]
  },
  {
   "cell_type": "code",
   "execution_count": 29,
   "metadata": {},
   "outputs": [],
   "source": [
    "# Model Parameters\n",
    "pdict = {}\n",
    "pdict['f']     = 45\n",
    "pdict['k']     = 15\n",
    "pdict['d']     = [2, 4, 8, 16, 32]\n",
    "pdict['s']     = 1\n",
    "\n",
    "# Dataset Parameters\n",
    "pdict['sta']   = 'CPUP'\n",
    "pdict['pre']   = 3\n",
    "pdict['post']  = 17\n",
    "\n",
    "# Training Parameters\n",
    "pdict['sh']    = 3\n",
    "pdict['numSH'] = 12\n",
    "pdict['bs']    = 50\n",
    "pdict['numB']  = 3\n",
    "pdict['numE']  = 15\n",
    "pdict['lr']    = .0005\n",
    "pdict['pat']   = 4\n",
    "pdict['time']  = strftime(\"%y-%m-%d-%H-%M-%S\", localtime())"
   ]
  },
  {
   "cell_type": "code",
   "execution_count": 30,
   "metadata": {
    "pycharm": {
     "is_executing": false
    }
   },
   "outputs": [],
   "source": [
    "# Instantiate the Generator Functions\n",
    "trn_gen = gen(cat_trn, dat_trn, pdict, orig_pre)\n",
    "val_gen = gen(cat_val, dat_val, pdict, orig_pre)\n",
    "\n",
    "t_step = len(cat_trn) // pdict['bs'] + 1\n",
    "v_step = len(cat_val) // pdict['bs'] + 1"
   ]
  },
  {
   "cell_type": "code",
   "execution_count": 31,
   "metadata": {},
   "outputs": [
    {
     "name": "stdout",
     "output_type": "stream",
     "text": [
      "loading model... building new model:\n",
      " models/f:45|k:15|d:2x4x8x16x32|s:1|sta:CPUP|pre:3|post:17|sh:3|numSH:12|bs:50|numB:3|numE:15|lr:0.0005|pat:4|time:19-11-14-11-40-29\n",
      "complete\n",
      "Model: \"model_1\"\n",
      "__________________________________________________________________________________________________\n",
      "Layer (type)                    Output Shape         Param #     Connected to                     \n",
      "==================================================================================================\n",
      "input_2 (InputLayer)            [(None, 800, 3)]     0                                            \n",
      "__________________________________________________________________________________________________\n",
      "conv1d_16 (Conv1D)              (None, 800, 45)      180         input_2[0][0]                    \n",
      "__________________________________________________________________________________________________\n",
      "conv1d_17 (Conv1D)              (None, 800, 45)      30420       conv1d_16[0][0]                  \n",
      "__________________________________________________________________________________________________\n",
      "activation_10 (Activation)      (None, 800, 45)      0           conv1d_17[0][0]                  \n",
      "__________________________________________________________________________________________________\n",
      "spatial_dropout1d_10 (SpatialDr (None, 800, 45)      0           activation_10[0][0]              \n",
      "__________________________________________________________________________________________________\n",
      "conv1d_18 (Conv1D)              (None, 800, 45)      30420       spatial_dropout1d_10[0][0]       \n",
      "__________________________________________________________________________________________________\n",
      "activation_11 (Activation)      (None, 800, 45)      0           conv1d_18[0][0]                  \n",
      "__________________________________________________________________________________________________\n",
      "spatial_dropout1d_11 (SpatialDr (None, 800, 45)      0           activation_11[0][0]              \n",
      "__________________________________________________________________________________________________\n",
      "conv1d_19 (Conv1D)              (None, 800, 45)      2070        conv1d_16[0][0]                  \n",
      "__________________________________________________________________________________________________\n",
      "add_6 (Add)                     (None, 800, 45)      0           conv1d_19[0][0]                  \n",
      "                                                                 spatial_dropout1d_11[0][0]       \n",
      "__________________________________________________________________________________________________\n",
      "conv1d_20 (Conv1D)              (None, 800, 45)      30420       add_6[0][0]                      \n",
      "__________________________________________________________________________________________________\n",
      "activation_12 (Activation)      (None, 800, 45)      0           conv1d_20[0][0]                  \n",
      "__________________________________________________________________________________________________\n",
      "spatial_dropout1d_12 (SpatialDr (None, 800, 45)      0           activation_12[0][0]              \n",
      "__________________________________________________________________________________________________\n",
      "conv1d_21 (Conv1D)              (None, 800, 45)      30420       spatial_dropout1d_12[0][0]       \n",
      "__________________________________________________________________________________________________\n",
      "activation_13 (Activation)      (None, 800, 45)      0           conv1d_21[0][0]                  \n",
      "__________________________________________________________________________________________________\n",
      "spatial_dropout1d_13 (SpatialDr (None, 800, 45)      0           activation_13[0][0]              \n",
      "__________________________________________________________________________________________________\n",
      "conv1d_22 (Conv1D)              (None, 800, 45)      2070        add_6[0][0]                      \n",
      "__________________________________________________________________________________________________\n",
      "add_7 (Add)                     (None, 800, 45)      0           conv1d_22[0][0]                  \n",
      "                                                                 spatial_dropout1d_13[0][0]       \n",
      "__________________________________________________________________________________________________\n",
      "conv1d_23 (Conv1D)              (None, 800, 45)      30420       add_7[0][0]                      \n",
      "__________________________________________________________________________________________________\n",
      "activation_14 (Activation)      (None, 800, 45)      0           conv1d_23[0][0]                  \n",
      "__________________________________________________________________________________________________\n",
      "spatial_dropout1d_14 (SpatialDr (None, 800, 45)      0           activation_14[0][0]              \n",
      "__________________________________________________________________________________________________\n",
      "conv1d_24 (Conv1D)              (None, 800, 45)      30420       spatial_dropout1d_14[0][0]       \n",
      "__________________________________________________________________________________________________\n",
      "activation_15 (Activation)      (None, 800, 45)      0           conv1d_24[0][0]                  \n",
      "__________________________________________________________________________________________________\n",
      "spatial_dropout1d_15 (SpatialDr (None, 800, 45)      0           activation_15[0][0]              \n",
      "__________________________________________________________________________________________________\n",
      "conv1d_25 (Conv1D)              (None, 800, 45)      2070        add_7[0][0]                      \n",
      "__________________________________________________________________________________________________\n",
      "add_8 (Add)                     (None, 800, 45)      0           conv1d_25[0][0]                  \n",
      "                                                                 spatial_dropout1d_15[0][0]       \n",
      "__________________________________________________________________________________________________\n",
      "conv1d_26 (Conv1D)              (None, 800, 45)      30420       add_8[0][0]                      \n",
      "__________________________________________________________________________________________________\n",
      "activation_16 (Activation)      (None, 800, 45)      0           conv1d_26[0][0]                  \n",
      "__________________________________________________________________________________________________\n",
      "spatial_dropout1d_16 (SpatialDr (None, 800, 45)      0           activation_16[0][0]              \n",
      "__________________________________________________________________________________________________\n",
      "conv1d_27 (Conv1D)              (None, 800, 45)      30420       spatial_dropout1d_16[0][0]       \n",
      "__________________________________________________________________________________________________\n",
      "activation_17 (Activation)      (None, 800, 45)      0           conv1d_27[0][0]                  \n",
      "__________________________________________________________________________________________________\n",
      "spatial_dropout1d_17 (SpatialDr (None, 800, 45)      0           activation_17[0][0]              \n",
      "__________________________________________________________________________________________________\n",
      "conv1d_28 (Conv1D)              (None, 800, 45)      2070        add_8[0][0]                      \n",
      "__________________________________________________________________________________________________\n",
      "add_9 (Add)                     (None, 800, 45)      0           conv1d_28[0][0]                  \n",
      "                                                                 spatial_dropout1d_17[0][0]       \n",
      "__________________________________________________________________________________________________\n",
      "conv1d_29 (Conv1D)              (None, 800, 45)      30420       add_9[0][0]                      \n",
      "__________________________________________________________________________________________________\n",
      "activation_18 (Activation)      (None, 800, 45)      0           conv1d_29[0][0]                  \n",
      "__________________________________________________________________________________________________\n",
      "spatial_dropout1d_18 (SpatialDr (None, 800, 45)      0           activation_18[0][0]              \n",
      "__________________________________________________________________________________________________\n",
      "conv1d_30 (Conv1D)              (None, 800, 45)      30420       spatial_dropout1d_18[0][0]       \n",
      "__________________________________________________________________________________________________\n",
      "activation_19 (Activation)      (None, 800, 45)      0           conv1d_30[0][0]                  \n",
      "__________________________________________________________________________________________________\n",
      "spatial_dropout1d_19 (SpatialDr (None, 800, 45)      0           activation_19[0][0]              \n",
      "__________________________________________________________________________________________________\n",
      "add_11 (Add)                    (None, 800, 45)      0           spatial_dropout1d_11[0][0]       \n",
      "                                                                 spatial_dropout1d_13[0][0]       \n",
      "                                                                 spatial_dropout1d_15[0][0]       \n",
      "                                                                 spatial_dropout1d_17[0][0]       \n",
      "                                                                 spatial_dropout1d_19[0][0]       \n",
      "__________________________________________________________________________________________________\n",
      "lambda_1 (Lambda)               (None, 45)           0           add_11[0][0]                     \n",
      "__________________________________________________________________________________________________\n",
      "dense_15 (Dense)                (None, 3)            138         lambda_1[0][0]                   \n",
      "__________________________________________________________________________________________________\n",
      "dense_16 (Dense)                (None, 3)            138         lambda_1[0][0]                   \n",
      "__________________________________________________________________________________________________\n",
      "dense_17 (Dense)                (None, 3)            138         lambda_1[0][0]                   \n",
      "__________________________________________________________________________________________________\n",
      "dense_18 (Dense)                (None, 3)            138         lambda_1[0][0]                   \n",
      "__________________________________________________________________________________________________\n",
      "dense_19 (Dense)                (None, 3)            138         lambda_1[0][0]                   \n",
      "__________________________________________________________________________________________________\n",
      "dense_20 (Dense)                (None, 3)            138         lambda_1[0][0]                   \n",
      "__________________________________________________________________________________________________\n",
      "dense_21 (Dense)                (None, 3)            138         lambda_1[0][0]                   \n",
      "__________________________________________________________________________________________________\n",
      "dense_22 (Dense)                (None, 3)            138         lambda_1[0][0]                   \n",
      "__________________________________________________________________________________________________\n",
      "dense_23 (Dense)                (None, 3)            138         lambda_1[0][0]                   \n",
      "__________________________________________________________________________________________________\n",
      "dense_24 (Dense)                (None, 3)            138         lambda_1[0][0]                   \n",
      "__________________________________________________________________________________________________\n",
      "dense_25 (Dense)                (None, 3)            138         lambda_1[0][0]                   \n",
      "__________________________________________________________________________________________________\n",
      "dense_26 (Dense)                (None, 3)            138         lambda_1[0][0]                   \n",
      "__________________________________________________________________________________________________\n",
      "dense_27 (Dense)                (None, 3)            138         lambda_1[0][0]                   \n",
      "__________________________________________________________________________________________________\n",
      "dense_28 (Dense)                (None, 3)            138         lambda_1[0][0]                   \n",
      "__________________________________________________________________________________________________\n",
      "dense_29 (Dense)                (None, 3)            138         lambda_1[0][0]                   \n",
      "==================================================================================================\n",
      "Total params: 314,730\n",
      "Trainable params: 314,730\n",
      "Non-trainable params: 0\n",
      "__________________________________________________________________________________________________\n",
      "None\n"
     ]
    },
    {
     "name": "stdout",
     "output_type": "stream",
     "text": [
      "f:45|k:15|d:2x4x8x16x32|s:1|sta:CPUP|pre:3|post:17|sh:3|numSH:12|bs:50|numB:3|numE:15|lr:0.0005|pat:4|time:19-11-14-11-40\n"
     ]
    }
   ],
   "source": [
    "# Build the Model\n",
    "print('loading model...', end=' ', flush=True)\n",
    "model, model_name = load_custom_model(pdict)\n",
    "pdict = name2param(model_name)\n",
    "model, _ = compile_custom_model(model, pdict)\n",
    "print('complete')\n",
    "print(model.summary())\n",
    "\n",
    "model, model_name = compile_custom_model(model, pdict)\n",
    "print(model_name)\n",
    "model_id = pdict['time']"
   ]
  },
  {
   "cell_type": "code",
   "execution_count": null,
   "metadata": {},
   "outputs": [],
   "source": [
    "history = model.fit_generator(trn_gen, steps_per_epoch=t_step, epochs=5000,\n",
    "                              validation_data=val_gen, validation_steps=v_step,\n",
    "                              callbacks=get_callbacks(model_name, model_folder, log_folder),\n",
    "                              max_queue_size=10)"
   ]
  },
  {
   "cell_type": "markdown",
   "metadata": {},
   "source": [
    "***\n",
    "\n",
    "## STEP 5: TESTING\n",
    "\n"
   ]
  },
  {
   "cell_type": "code",
   "execution_count": 32,
   "metadata": {},
   "outputs": [
    {
     "name": "stdout",
     "output_type": "stream",
     "text": [
      "loading previous model:\n",
      " models/f:45|k:15|d:2x4x8x16x32|s:1|sta:CPUP|pre:3|post:17|sh:3|numSH:12|bs:50|numB:3|numE:15|lr:0.0005|pat:4|time:19-10-29-12-25.h5\n",
      "51\n"
     ]
    }
   ],
   "source": [
    "pdict = {}\n",
    "pdict['iniW'] = model_id\n",
    "pdict['iniW'] = '19-10-29-12-25'\n",
    "model, model_name = load_custom_model(pdict)\n",
    "pdict = name2param(model_name)\n",
    "tst_gen = gen(cat_tst, dat_tst, pdict, orig_pre, all=True)\n",
    "X_tst, Y_tst = next(tst_gen)\n",
    "pred = np.asarray(model.predict(X_tst))"
   ]
  },
  {
   "cell_type": "code",
   "execution_count": 37,
   "metadata": {},
   "outputs": [],
   "source": [
    "def test_model(model_id, cat=None, dat=None, plot=False, q=8, orig_pre=20):\n",
    "\n",
    "    pdict = {}\n",
    "    pdict['iniW'] = model_id\n",
    "    model, model_name = load_custom_model(pdict)\n",
    "    pdict = name2param(model_name)\n",
    "\n",
    "    if cat is None:\n",
    "        sta = pdict['sta']\n",
    "        cat = read_cat(f'data/Y_{sta}_20_180.csv')\n",
    "        dat = DAT_normalize(np.load(f'data/X_{sta}_20_180.npy'))\n",
    "        cat = cat.loc[(cat.TIME > '01-01-2018')]\n",
    "        dat = np.take(dat, cat.index, axis=0)\n",
    "        cat.reset_index(drop=True, inplace=True)\n",
    "        pdict['data'] = 'TEST'\n",
    "    else:\n",
    "        cat = cat.copy()\n",
    "    print(len(cat), len(dat))\n",
    "    tst_gen = gen(cat, dat, pdict, orig_pre, all=True)\n",
    "    X_tst, Y_tst = next(tst_gen)\n",
    "    pred = np.asarray(model.predict(X_tst))\n",
    "\n",
    "    if pdict['numE'] == 0:\n",
    "        tst_degs = xy2deg(pred)\n",
    "    else:\n",
    "        if len(pred.shape) < 3:\n",
    "            pred = np.expand_dims(pred, 0)\n",
    "        tst_bins = np.argmax(np.swapaxes(pred, 0, 1), axis=2)\n",
    "        tst_degs = bins2deg(tst_bins, pdict['numB'], pdict['numE'])\n",
    "        tst_conf = np.min(np.max(np.swapaxes(pred, 0, 1), axis=2), axis=1)\n",
    "\n",
    "        cat['AZI_CERTAINTY'] = tst_conf\n",
    "        cat['Certainty Range'] = pd.qcut(cat['AZI_CERTAINTY'], q)\n",
    "\n",
    "\n",
    "    cat['AZI_PRED_NN'] = tst_degs\n",
    "    cat['Absolute Backazimuth Error'] = ang_diff(cat.AZI_TRUE.values, cat['AZI_PRED_NN'].values)\n",
    "\n",
    "    if plot:\n",
    "        fig, ax = plt.subplots(2,1, figsize=(15,10))\n",
    "        sns.boxplot(x=\"Absolute Backazimuth Error\", y='Certainty Range', data=cat, ax=ax[0], order=np.flip(np.sort(cat['Certainty Range'].unique())))\n",
    "        plot_ERR(cat[\"Absolute Backazimuth Error\"], f'{model_id}', ax=ax[1])\n",
    "\n",
    "    mean = cat['Absolute Backazimuth Error'].mean()\n",
    "    median = cat['Absolute Backazimuth Error'].median()\n",
    "    print('mean:', mean, '\\nmedian:', median)\n",
    "\n",
    "\n",
    "    return cat"
   ]
  },
  {
   "cell_type": "code",
   "execution_count": 39,
   "metadata": {},
   "outputs": [
    {
     "name": "stdout",
     "output_type": "stream",
     "text": [
      "loading previous model:\n",
      " models/f:45|k:15|d:2x4x8x16x32|s:1|sta:CPUP|pre:3|post:17|sh:3|numSH:12|bs:50|numB:3|numE:15|lr:0.0005|pat:4|time:19-10-29-12-25.h5\n",
      "5414 5414\n",
      "51\n",
      "mean: 34.82738576910117 \n",
      "median: 18.167177959304354\n"
     ]
    },
    {
     "data": {
      "image/png": "[encoded data removed]",
      "text/plain": [
       "<Figure size 1080x720 with 2 Axes>"
      ]
     },
     "metadata": {
      "needs_background": "light"
     },
     "output_type": "display_data"
    }
   ],
   "source": [
    "model_id = '19-10-29-12-25'\n",
    "cat_tst = test_model(model_id, cat_tst, dat_tst, True, orig_pre)"
   ]
  },
  {
   "cell_type": "code",
   "execution_count": null,
   "metadata": {},
   "outputs": [],
   "source": []
  }
 ],
 "metadata": {
  "kernelspec": {
   "display_name": "Python 3",
   "language": "python",
   "name": "python3"
  },
  "language_info": {
   "codemirror_mode": {
    "name": "ipython",
    "version": 3
   },
   "file_extension": ".py",
   "mimetype": "text/x-python",
   "name": "python",
   "nbconvert_exporter": "python",
   "pygments_lexer": "ipython3",
   "version": "3.7.4"
  }
 },
 "nbformat": 4,
 "nbformat_minor": 2
}
